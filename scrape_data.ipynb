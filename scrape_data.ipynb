{
 "cells": [
  {
   "cell_type": "code",
   "execution_count": 97,
   "metadata": {},
   "outputs": [],
   "source": [
    "import requests\n",
    "from bs4 import BeautifulSoup\n",
    "import pandas as pd\n",
    "import time\n",
    "from datetime import datetime\n",
    "import random\n",
    "\n",
    "url = \"https://finance.yahoo.com\"\n",
    "headers = {\n",
    "    \"User-Agent\": \"Mozilla/5.0 (Windows NT 10.0; Win64; x64) AppleWebKit/537.36 (KHTML, like Gecko) Chrome/91.0.4472.124 Safari/537.36\"\n",
    "}"
   ]
  },
  {
   "cell_type": "code",
   "execution_count": 98,
   "metadata": {},
   "outputs": [],
   "source": [
    "def get_article_links():\n",
    "    response = requests.get(url, headers=headers)\n",
    "    soup = BeautifulSoup(response.content, 'html.parser')\n",
    "    \n",
    "    articles = []\n",
    "    clamp_titles = soup.find_all(class_='clamp')\n",
    "\n",
    "    for title_elem in clamp_titles:\n",
    "        link_elem = title_elem.find_parent('a', href=True)\n",
    "        if link_elem and '/news/' in link_elem['href']:\n",
    "            article = {\n",
    "                'title': title_elem.text.strip(),\n",
    "                'url': url + link_elem['href'] if link_elem['href'].startswith('/') else link_elem['href']\n",
    "            }\n",
    "            articles.append(article)\n",
    "    print(articles)\n",
    "    return articles"
   ]
  },
  {
   "cell_type": "code",
   "execution_count": 99,
   "metadata": {},
   "outputs": [],
   "source": [
    "def scrape_article_content(url):\n",
    "    response = requests.get(url, headers=headers)\n",
    "    soup = BeautifulSoup(response.content, 'html.parser')\n",
    "    content_elements = soup.find_all(['p', 'h2'])\n",
    "    content = ' '.join([elem.text.strip() for elem in content_elements if elem.text.strip()])\n",
    "    return content"
   ]
  },
  {
   "cell_type": "code",
   "execution_count": 100,
   "metadata": {},
   "outputs": [
    {
     "name": "stdout",
     "output_type": "stream",
     "text": [
      "Getting articles from main page...\n",
      "[{'title': 'Nasdaq leads stocks higher as Netflix soars', 'url': 'https://finance.yahoo.com/news/live/stock-market-today-nasdaq-jumps-to-lead-sp-dow-higher-as-netflix-soars-and-ai-buzz-returns-120536015.html'}, {'title': \"Netflix hits record high as Wall Street cheers 'near flawless' earnings\", 'url': 'https://finance.yahoo.com/news/netflix-stock-reaches-all-time-high-as-wall-street-cheers-near-flawless-earnings-214816664.html'}, {'title': 'Nvidia, tech stocks rally after Trump announces $500B AI project', 'url': 'https://finance.yahoo.com/news/nvidia-tech-stocks-rally-after-trump-announces-500-billion-stargate-ai-project-153919780.html'}, {'title': \"Dimon argues tariffs are good for US security: 'Get over it'\", 'url': 'https://finance.yahoo.com/news/jpmorgans-dimon-argues-tariffs-are-good-for-us-security-even-if-inflationary-get-over-it-153641129.html'}, {'title': \"Microsoft relaxes grip on OpenAI amid $500B 'Stargate' venture\", 'url': 'https://finance.yahoo.com/news/microsoft-relaxes-data-center-grip-011928628.html'}, {'title': \"Head of Norway's $1.8T fund sees a contrarian bet in US tech\", 'url': 'https://finance.yahoo.com/news/norway-1-8-trillion-fund-114231909.html'}, {'title': 'Johnson & Johnson stock down despite beating expectations', 'url': 'https://finance.yahoo.com/news/johnson--johnson-stock-down-despite-beat-on-full-year-q4-2024-earnings-152224387.html'}, {'title': \"JPMorgan's Dimon: US stock prices are 'kind of inflated'\", 'url': 'https://finance.yahoo.com/news/jpmorgan-dimon-says-us-stock-123412545.html'}, {'title': \"Hindenburg's closure highlights 'wear and tear' of short-selling\", 'url': 'https://finance.yahoo.com/news/hindenburg-research-shutting-down-highlights-wear-and-tear-of-activist-short-selling-143652817.html'}, {'title': 'Venture Global Slashes IPO Price Range by More Than 40%', 'url': 'https://finance.yahoo.com/news/venture-global-slashes-ipo-price-133122749.html'}, {'title': 'Goldman Sachs CEO says important for US, China to improve ties, CNBC reports', 'url': 'https://finance.yahoo.com/news/goldman-sachs-ceo-says-important-150957517.html'}, {'title': \"Herald investors vote against Boaz Weinstein's revamp plan\", 'url': 'https://finance.yahoo.com/news/herald-investors-vote-against-boaz-150829377.html'}, {'title': 'Caffeine fix? Coffee wholesaler sues brokerage over missing $84,500 load', 'url': 'https://finance.yahoo.com/news/caffeine-fix-coffee-wholesaler-sues-150751776.html'}, {'title': 'Analyst who bet correctly in 2024 unveils top AI stock picks for 2025', 'url': 'https://finance.yahoo.com/news/analyst-bet-correctly-2024-unveils-150700932.html'}, {'title': \"Abu Dhabi's cryptomining firm Phoenix Group enters Africa with power purchase deal\", 'url': 'https://finance.yahoo.com/news/abu-dhabis-cryptomining-firm-phoenix-150648860.html'}, {'title': 'Turkey’s Wealth Fund Mulls Buying LetterOne’s Turkcell Stake', 'url': 'https://finance.yahoo.com/news/turkey-wealth-fund-weighs-buying-134718538.html'}, {'title': 'P&G Stopped Hiking Prices and Sales Still Grew Last Quarter', 'url': 'https://finance.yahoo.com/news/p-g-stopped-hiking-prices-144230120.html'}, {'title': 'Apple Stock Falls as Jefferies Downgrades; JPM Lowers Price Target', 'url': 'https://finance.yahoo.com/news/apple-stock-falls-jefferies-downgrades-151352284.html'}, {'title': 'Bank of America CEO: The Federal Reserve may have to respond to Trump', 'url': 'https://finance.yahoo.com/news/bank-of-america-ceo-the-federal-reserve-may-have-to-respond-to-trump-120105852.html'}, {'title': 'SEC task force stokes new crypto optimism as industry awaits Trump actions', 'url': 'https://finance.yahoo.com/news/sec-task-force-stokes-new-crypto-optimism-as-industry-awaits-trump-actions-195132889.html'}, {'title': 'Morning Bid: Trump switches to AI as tariffs lurk, Netflix soars', 'url': 'https://finance.yahoo.com/news/morning-bid-trump-switches-ai-110323768.html'}]\n",
      "Found 21 articles\n"
     ]
    }
   ],
   "source": [
    "print(\"Getting articles from main page...\")\n",
    "articles_data = get_article_links()\n",
    "print(f\"Found {len(articles_data)} articles\")\n"
   ]
  },
  {
   "cell_type": "code",
   "execution_count": 101,
   "metadata": {},
   "outputs": [
    {
     "name": "stdout",
     "output_type": "stream",
     "text": [
      "Scraping article 1/21: Nasdaq leads stocks higher as Netflix soars...\n",
      "Scraping article 2/21: Netflix hits record high as Wall Street cheers 'ne...\n",
      "Scraping article 3/21: Nvidia, tech stocks rally after Trump announces $5...\n",
      "Scraping article 4/21: Dimon argues tariffs are good for US security: 'Ge...\n",
      "Scraping article 5/21: Microsoft relaxes grip on OpenAI amid $500B 'Starg...\n",
      "Scraping article 6/21: Head of Norway's $1.8T fund sees a contrarian bet ...\n",
      "Scraping article 7/21: Johnson & Johnson stock down despite beating expec...\n",
      "Scraping article 8/21: JPMorgan's Dimon: US stock prices are 'kind of inf...\n",
      "Scraping article 9/21: Hindenburg's closure highlights 'wear and tear' of...\n",
      "Scraping article 10/21: Venture Global Slashes IPO Price Range by More Tha...\n",
      "Scraping article 11/21: Goldman Sachs CEO says important for US, China to ...\n",
      "Scraping article 12/21: Herald investors vote against Boaz Weinstein's rev...\n",
      "Scraping article 13/21: Caffeine fix? Coffee wholesaler sues brokerage ove...\n",
      "Scraping article 14/21: Analyst who bet correctly in 2024 unveils top AI s...\n",
      "Scraping article 15/21: Abu Dhabi's cryptomining firm Phoenix Group enters...\n",
      "Scraping article 16/21: Turkey’s Wealth Fund Mulls Buying LetterOne’s Turk...\n",
      "Scraping article 17/21: P&G Stopped Hiking Prices and Sales Still Grew Las...\n",
      "Scraping article 18/21: Apple Stock Falls as Jefferies Downgrades; JPM Low...\n",
      "Scraping article 19/21: Bank of America CEO: The Federal Reserve may have ...\n",
      "Scraping article 20/21: SEC task force stokes new crypto optimism as indus...\n",
      "Scraping article 21/21: Morning Bid: Trump switches to AI as tariffs lurk,...\n"
     ]
    }
   ],
   "source": [
    "for i, article in enumerate(articles_data, 1):\n",
    "    print(f\"Scraping article {i}/{len(articles_data)}: {article['title'][:50]}...\")\n",
    "    content = scrape_article_content(article['url'])\n",
    "    article['content'] = content\n",
    "    time.sleep(random.uniform(1, 3))"
   ]
  },
  {
   "cell_type": "code",
   "execution_count": 102,
   "metadata": {},
   "outputs": [],
   "source": [
    "df = pd.DataFrame(articles_data)\n",
    "output_file = f'yahoo_finance_articles.csv'\n",
    "df.to_csv(output_file, index=False, encoding='utf-8')"
   ]
  }
 ],
 "metadata": {
  "kernelspec": {
   "display_name": "base",
   "language": "python",
   "name": "python3"
  },
  "language_info": {
   "codemirror_mode": {
    "name": "ipython",
    "version": 3
   },
   "file_extension": ".py",
   "mimetype": "text/x-python",
   "name": "python",
   "nbconvert_exporter": "python",
   "pygments_lexer": "ipython3",
   "version": "3.12.2"
  }
 },
 "nbformat": 4,
 "nbformat_minor": 2
}
