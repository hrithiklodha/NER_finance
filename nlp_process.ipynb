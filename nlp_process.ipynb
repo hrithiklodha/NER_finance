{
 "cells": [
  {
   "cell_type": "code",
   "execution_count": 30,
   "metadata": {},
   "outputs": [],
   "source": [
    "import pandas as pd\n",
    "df = pd.read_csv('yahoo_finance_articles.csv',usecols=['content'])\n",
    "df.head()\n",
    "df_0 = df.copy()"
   ]
  },
  {
   "cell_type": "code",
   "execution_count": 39,
   "metadata": {},
   "outputs": [
    {
     "name": "stderr",
     "output_type": "stream",
     "text": [
      "[nltk_data] Downloading package punkt to\n",
      "[nltk_data]     /Users/hrithik/codes/nltk_data...\n",
      "[nltk_data]   Package punkt is already up-to-date!\n",
      "[nltk_data] Downloading package stopwords to\n",
      "[nltk_data]     /Users/hrithik/codes/nltk_data...\n",
      "[nltk_data]   Package stopwords is already up-to-date!\n"
     ]
    },
    {
     "data": {
      "text/html": [
       "<div>\n",
       "<style scoped>\n",
       "    .dataframe tbody tr th:only-of-type {\n",
       "        vertical-align: middle;\n",
       "    }\n",
       "\n",
       "    .dataframe tbody tr th {\n",
       "        vertical-align: top;\n",
       "    }\n",
       "\n",
       "    .dataframe thead th {\n",
       "        text-align: right;\n",
       "    }\n",
       "</style>\n",
       "<table border=\"1\" class=\"dataframe\">\n",
       "  <thead>\n",
       "    <tr style=\"text-align: right;\">\n",
       "      <th></th>\n",
       "      <th>content</th>\n",
       "      <th>tokenize_content</th>\n",
       "      <th>content_tokens</th>\n",
       "    </tr>\n",
       "  </thead>\n",
       "  <tbody>\n",
       "    <tr>\n",
       "      <th>0</th>\n",
       "      <td>In This Article: The Nasdaq led US stocks high...</td>\n",
       "      <td>[In, This, Article, :, The, Nasdaq, led, US, s...</td>\n",
       "      <td>[article, nasdaq, led, us, stocks, higher, wed...</td>\n",
       "    </tr>\n",
       "    <tr>\n",
       "      <th>1</th>\n",
       "      <td>In This Article: Netflix stock (NFLX) surged t...</td>\n",
       "      <td>[In, This, Article, :, Netflix, stock, (, NFLX...</td>\n",
       "      <td>[article, netflix, stock, nflx, surged, alltim...</td>\n",
       "    </tr>\n",
       "    <tr>\n",
       "      <th>2</th>\n",
       "      <td>In This Article: Nvidia (NVDA) stock jumped mo...</td>\n",
       "      <td>[In, This, Article, :, Nvidia, (, NVDA, ), sto...</td>\n",
       "      <td>[article, nvidia, nvda, stock, jumped, 4, wedn...</td>\n",
       "    </tr>\n",
       "    <tr>\n",
       "      <th>3</th>\n",
       "      <td>In This Article: JPMorgan Chase (JPM) CEO Jami...</td>\n",
       "      <td>[In, This, Article, :, JPMorgan, Chase, (, JPM...</td>\n",
       "      <td>[article, jpmorgan, chase, jpm, ceo, jamie, di...</td>\n",
       "    </tr>\n",
       "    <tr>\n",
       "      <th>4</th>\n",
       "      <td>In This Article: By Stephen Nellis and Krystal...</td>\n",
       "      <td>[In, This, Article, :, By, Stephen, Nellis, an...</td>\n",
       "      <td>[article, stephen, nellis, krystal, hu, reuter...</td>\n",
       "    </tr>\n",
       "  </tbody>\n",
       "</table>\n",
       "</div>"
      ],
      "text/plain": [
       "                                             content  \\\n",
       "0  In This Article: The Nasdaq led US stocks high...   \n",
       "1  In This Article: Netflix stock (NFLX) surged t...   \n",
       "2  In This Article: Nvidia (NVDA) stock jumped mo...   \n",
       "3  In This Article: JPMorgan Chase (JPM) CEO Jami...   \n",
       "4  In This Article: By Stephen Nellis and Krystal...   \n",
       "\n",
       "                                    tokenize_content  \\\n",
       "0  [In, This, Article, :, The, Nasdaq, led, US, s...   \n",
       "1  [In, This, Article, :, Netflix, stock, (, NFLX...   \n",
       "2  [In, This, Article, :, Nvidia, (, NVDA, ), sto...   \n",
       "3  [In, This, Article, :, JPMorgan, Chase, (, JPM...   \n",
       "4  [In, This, Article, :, By, Stephen, Nellis, an...   \n",
       "\n",
       "                                      content_tokens  \n",
       "0  [article, nasdaq, led, us, stocks, higher, wed...  \n",
       "1  [article, netflix, stock, nflx, surged, alltim...  \n",
       "2  [article, nvidia, nvda, stock, jumped, 4, wedn...  \n",
       "3  [article, jpmorgan, chase, jpm, ceo, jamie, di...  \n",
       "4  [article, stephen, nellis, krystal, hu, reuter...  "
      ]
     },
     "execution_count": 39,
     "metadata": {},
     "output_type": "execute_result"
    }
   ],
   "source": [
    "#tokenization\n",
    "import pandas as pd\n",
    "import nltk\n",
    "from nltk.tokenize import word_tokenize, sent_tokenize\n",
    "from nltk.corpus import stopwords\n",
    "import string\n",
    "import re\n",
    "\n",
    "nltk.download('punkt')\n",
    "nltk.download('stopwords')\n",
    "\n",
    "def preprocess_text(text):\n",
    "    text = text.lower()\n",
    "    text = re.sub(r'[^\\w\\s.]', '', text)\n",
    "    text = ' '.join(text.split())\n",
    "    return text\n",
    "\n",
    "def tokenize_text(text):\n",
    "    if pd.isna(text):\n",
    "        return []\n",
    "    clean_text = preprocess_text(text)\n",
    "    tokens = word_tokenize(clean_text)\n",
    "    stop_words = set(stopwords.words('english'))\n",
    "    tokens = [token for token in tokens \n",
    "             if token not in stop_words \n",
    "             and token not in string.punctuation]    \n",
    "    return tokens\n",
    "\n",
    "df['content_tokens'] = df['content'].apply(lambda x: tokenize_text(x))\n",
    "df.head()"
   ]
  },
  {
   "cell_type": "code",
   "execution_count": null,
   "metadata": {},
   "outputs": [],
   "source": []
  }
 ],
 "metadata": {
  "kernelspec": {
   "display_name": "Python 3",
   "language": "python",
   "name": "python3"
  },
  "language_info": {
   "codemirror_mode": {
    "name": "ipython",
    "version": 3
   },
   "file_extension": ".py",
   "mimetype": "text/x-python",
   "name": "python",
   "nbconvert_exporter": "python",
   "pygments_lexer": "ipython3",
   "version": "3.12.2"
  }
 },
 "nbformat": 4,
 "nbformat_minor": 2
}
